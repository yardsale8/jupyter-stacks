{
 "cells": [
  {
   "cell_type": "code",
   "execution_count": 5,
   "metadata": {
    "scrolled": true
   },
   "outputs": [
    {
     "name": "stdout",
     "output_type": "stream",
     "text": [
      "Requirement already satisfied: rpy2 in /Users/tiverson/.pyenv/versions/anaconda3-5.3.1/lib/python3.7/site-packages (3.0.4)\n",
      "Requirement already satisfied: pytest in /Users/tiverson/.pyenv/versions/anaconda3-5.3.1/lib/python3.7/site-packages (from rpy2) (3.8.0)\n",
      "Requirement already satisfied: simplegeneric in /Users/tiverson/.pyenv/versions/anaconda3-5.3.1/lib/python3.7/site-packages (from rpy2) (0.8.1)\n",
      "Requirement already satisfied: cffi>=1.0.0 in /Users/tiverson/.pyenv/versions/anaconda3-5.3.1/lib/python3.7/site-packages (from rpy2) (1.11.5)\n",
      "Requirement already satisfied: jinja2 in /Users/tiverson/.pyenv/versions/anaconda3-5.3.1/lib/python3.7/site-packages (from rpy2) (2.10)\n",
      "Requirement already satisfied: py>=1.5.0 in /Users/tiverson/.pyenv/versions/anaconda3-5.3.1/lib/python3.7/site-packages (from pytest->rpy2) (1.6.0)\n",
      "Requirement already satisfied: six>=1.10.0 in /Users/tiverson/.pyenv/versions/anaconda3-5.3.1/lib/python3.7/site-packages (from pytest->rpy2) (1.11.0)\n",
      "Requirement already satisfied: setuptools in /Users/tiverson/.pyenv/versions/anaconda3-5.3.1/lib/python3.7/site-packages (from pytest->rpy2) (40.2.0)\n",
      "Requirement already satisfied: attrs>=17.4.0 in /Users/tiverson/.pyenv/versions/anaconda3-5.3.1/lib/python3.7/site-packages (from pytest->rpy2) (18.2.0)\n",
      "Requirement already satisfied: more-itertools>=4.0.0 in /Users/tiverson/.pyenv/versions/anaconda3-5.3.1/lib/python3.7/site-packages (from pytest->rpy2) (4.3.0)\n",
      "Requirement already satisfied: atomicwrites>=1.0 in /Users/tiverson/.pyenv/versions/anaconda3-5.3.1/lib/python3.7/site-packages (from pytest->rpy2) (1.2.1)\n",
      "Requirement already satisfied: pluggy>=0.7 in /Users/tiverson/.pyenv/versions/anaconda3-5.3.1/lib/python3.7/site-packages (from pytest->rpy2) (0.7.1)\n",
      "Requirement already satisfied: pycparser in /Users/tiverson/.pyenv/versions/anaconda3-5.3.1/lib/python3.7/site-packages (from cffi>=1.0.0->rpy2) (2.18)\n",
      "Requirement already satisfied: MarkupSafe>=0.23 in /Users/tiverson/.pyenv/versions/anaconda3-5.3.1/lib/python3.7/site-packages (from jinja2->rpy2) (1.0)\n",
      "\u001b[31mtwisted 18.7.0 requires PyHamcrest>=1.9.0, which is not installed.\u001b[0m\n",
      "\u001b[33mYou are using pip version 10.0.1, however version 19.1.1 is available.\n",
      "You should consider upgrading via the 'pip install --upgrade pip' command.\u001b[0m\n",
      "Collecting tzlocal\n",
      "  Downloading https://files.pythonhosted.org/packages/cb/89/e3687d3ed99bc882793f82634e9824e62499fdfdc4b1ae39e211c5b05017/tzlocal-1.5.1.tar.gz\n",
      "Requirement already satisfied: pytz in /Users/tiverson/.pyenv/versions/anaconda3-5.3.1/lib/python3.7/site-packages (from tzlocal) (2018.5)\n",
      "Building wheels for collected packages: tzlocal\n",
      "  Running setup.py bdist_wheel for tzlocal ... \u001b[?25ldone\n",
      "\u001b[?25h  Stored in directory: /Users/tiverson/Library/Caches/pip/wheels/15/ae/df/a67bf1ed84e9bf230187d36d8dcfd30072bea0236cb059ed91\n",
      "Successfully built tzlocal\n",
      "\u001b[31mtwisted 18.7.0 requires PyHamcrest>=1.9.0, which is not installed.\u001b[0m\n",
      "Installing collected packages: tzlocal\n",
      "Successfully installed tzlocal-1.5.1\n",
      "\u001b[33mYou are using pip version 10.0.1, however version 19.1.1 is available.\n",
      "You should consider upgrading via the 'pip install --upgrade pip' command.\u001b[0m\n"
     ]
    }
   ],
   "source": [
    "!pip install rpy2\n",
    "!pip install tzlocal"
   ]
  },
  {
   "cell_type": "code",
   "execution_count": 6,
   "metadata": {},
   "outputs": [],
   "source": [
    "%load_ext rpy2.ipython"
   ]
  },
  {
   "cell_type": "code",
   "execution_count": 13,
   "metadata": {},
   "outputs": [
    {
     "name": "stdout",
     "output_type": "stream",
     "text": [
      "  A  B C    D\n",
      "1 2  4 1  far\n",
      "2 1  1 2  far\n",
      "3 4 15 3 near\n",
      "4 9 80 4 near\n"
     ]
    }
   ],
   "source": [
    "%%R\n",
    "df <- data.frame(A = c(2,1,4,9),\n",
    "                 B  = c(4,1,15,80),\n",
    "                 C = c(1,2,3,4),\n",
    "                 D = c('far','far','near','near'))\n",
    "head(df)"
   ]
  },
  {
   "cell_type": "code",
   "execution_count": null,
   "metadata": {},
   "outputs": [],
   "source": []
  }
 ],
 "metadata": {
  "kernelspec": {
   "display_name": "Python 3",
   "language": "python",
   "name": "python3"
  },
  "language_info": {
   "codemirror_mode": {
    "name": "ipython",
    "version": 3
   },
   "file_extension": ".py",
   "mimetype": "text/x-python",
   "name": "python",
   "nbconvert_exporter": "python",
   "pygments_lexer": "ipython3",
   "version": "3.7.2"
  }
 },
 "nbformat": 4,
 "nbformat_minor": 2
}
